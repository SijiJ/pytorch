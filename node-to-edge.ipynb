{
  "cells": [
    {
      "cell_type": "markdown",
      "metadata": {
        "id": "view-in-github",
        "colab_type": "text"
      },
      "source": [
        "<a href=\"https://colab.research.google.com/github/SijiJ/pytorch/blob/main/node-to-edge.ipynb\" target=\"_parent\"><img src=\"https://colab.research.google.com/assets/colab-badge.svg\" alt=\"Open In Colab\"/></a>"
      ]
    },
    {
      "cell_type": "code",
      "source": [
        "import networkx as nx\n"
      ],
      "metadata": {
        "id": "pxKfC3qH9QsR"
      },
      "execution_count": 2,
      "outputs": []
    },
    {
      "cell_type": "code",
      "source": [
        "G = nx.Graph()\n",
        "G.add_edge(1, 2)\n",
        "G.add_edge(1, 3)\n",
        "G.add_edge(1, 5)\n",
        "G.add_edge(2, 3)\n",
        "G.add_edge(3, 4)\n",
        "G.add_edge(4, 5)"
      ],
      "metadata": {
        "id": "krXjIY0l-Ohp"
      },
      "execution_count": 3,
      "outputs": []
    },
    {
      "cell_type": "code",
      "source": [
        "nx.draw(G, with_labels = True)"
      ],
      "metadata": {
        "id": "J6elyuYI-QRG",
        "outputId": "a317cf6c-ee22-4c84-f9bb-ba92bd82e69f",
        "colab": {
          "base_uri": "https://localhost:8080/",
          "height": 319
        }
      },
      "execution_count": 4,
      "outputs": [
        {
          "output_type": "display_data",
          "data": {
            "text/plain": [
              "<Figure size 432x288 with 1 Axes>"
            ],
            "image/png": "[encoded data removed]"
          },
          "metadata": {}
        }
      ]
    },
    {
      "cell_type": "code",
      "source": [
        "count=1\n",
        "for u,v in G.edges():\n",
        "  print(u,v)\n",
        "  print(type((u,v)))\n",
        "  G.edges[u, v][\"label\"]=count\n",
        "  #G.edges[u, v][\"label2\"]=count\n",
        "  count+=1\n"
      ],
      "metadata": {
        "id": "zw7y8gS6_np7",
        "outputId": "0fb11e82-7622-492e-c550-98d62322e5b5",
        "colab": {
          "base_uri": "https://localhost:8080/"
        }
      },
      "execution_count": 7,
      "outputs": [
        {
          "output_type": "stream",
          "name": "stdout",
          "text": [
            "1 2\n",
            "<class 'tuple'>\n",
            "1 3\n",
            "<class 'tuple'>\n",
            "1 5\n",
            "<class 'tuple'>\n",
            "2 3\n",
            "<class 'tuple'>\n",
            "3 4\n",
            "<class 'tuple'>\n",
            "5 4\n",
            "<class 'tuple'>\n"
          ]
        }
      ]
    },
    {
      "cell_type": "code",
      "source": [
        "for u,v,a in G.edges(data=True):\n",
        "  print(u,v,a)\n",
        "  #print(a['label'])"
      ],
      "metadata": {
        "id": "u_xXzi6UAdKs",
        "outputId": "9f85b231-bb9d-4750-eee6-f69314f5c458",
        "colab": {
          "base_uri": "https://localhost:8080/"
        }
      },
      "execution_count": null,
      "outputs": [
        {
          "output_type": "stream",
          "name": "stdout",
          "text": [
            "1 2 {'label': 1}\n",
            "1 3 {'label': 2}\n",
            "1 5 {'label': 3}\n",
            "2 3 {'label': 4}\n",
            "3 4 {'label': 5}\n",
            "5 4 {'label': 6}\n"
          ]
        }
      ]
    },
    {
      "cell_type": "code",
      "source": [
        "count=1\n",
        "for n in G.nodes():\n",
        "  print(n)\n",
        "  G.nodes[n]['label']=count\n",
        "  count+=1"
      ],
      "metadata": {
        "id": "yqGgkr8YArTA",
        "outputId": "7271fa97-8e66-4406-d9f9-174d38774a69",
        "colab": {
          "base_uri": "https://localhost:8080/"
        }
      },
      "execution_count": null,
      "outputs": [
        {
          "output_type": "stream",
          "name": "stdout",
          "text": [
            "1\n",
            "2\n",
            "3\n",
            "5\n",
            "4\n"
          ]
        }
      ]
    },
    {
      "cell_type": "code",
      "source": [
        "for n,a in G.nodes(data=True):\n",
        "  print(n,a)"
      ],
      "metadata": {
        "id": "orJVKgTVA-p6",
        "outputId": "a185360d-4733-4ea7-ada1-a97bb52c98aa",
        "colab": {
          "base_uri": "https://localhost:8080/"
        }
      },
      "execution_count": null,
      "outputs": [
        {
          "output_type": "stream",
          "name": "stdout",
          "text": [
            "1 {'label': 1}\n",
            "2 {'label': 2}\n",
            "3 {'label': 3}\n",
            "5 {'label': 4}\n",
            "4 {'label': 5}\n"
          ]
        }
      ]
    },
    {
      "cell_type": "code",
      "source": [
        "H = nx.Graph()\n",
        "for u,v,a in G.edges(data=True):\n",
        "  H.add_node(a['label'])\n",
        "edges=[]\n",
        "for u,v,w in G.edges(data=True):\n",
        "  edges.append((u,v))\n",
        "  print(edges)\n",
        "  for e in u,v:\n",
        "    for a,b,c in G.edges(data=True):\n",
        "      if (a,b) in edges:\n",
        "        continue\n",
        "      if e in (a,b):\n",
        "        H.add_edge(w['label'], c['label'])\n",
        "nx.draw(H, with_labels = True)"
      ],
      "metadata": {
        "id": "yMHFdsCx-isS",
        "outputId": "fdb59425-cbe6-49e0-b1a1-385834311a13",
        "colab": {
          "base_uri": "https://localhost:8080/",
          "height": 426
        }
      },
      "execution_count": 11,
      "outputs": [
        {
          "output_type": "stream",
          "name": "stdout",
          "text": [
            "[(1, 2)]\n",
            "[(1, 2), (1, 3)]\n",
            "[(1, 2), (1, 3), (1, 5)]\n",
            "[(1, 2), (1, 3), (1, 5), (2, 3)]\n",
            "[(1, 2), (1, 3), (1, 5), (2, 3), (3, 4)]\n",
            "[(1, 2), (1, 3), (1, 5), (2, 3), (3, 4), (5, 4)]\n"
          ]
        },
        {
          "output_type": "display_data",
          "data": {
            "text/plain": [
              "<Figure size 432x288 with 1 Axes>"
            ],
            "image/png": "[encoded data removed]"
          },
          "metadata": {}
        }
      ]
    }
  ],
  "metadata": {
    "colab": {
      "collapsed_sections": [],
      "name": "Welcome To Colaboratory",
      "toc_visible": true,
      "provenance": [],
      "include_colab_link": true
    },
    "kernelspec": {
      "display_name": "Python 3",
      "name": "python3"
    }
  },
  "nbformat": 4,
  "nbformat_minor": 0
}