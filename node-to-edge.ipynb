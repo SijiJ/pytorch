{
  "cells": [
    {
      "cell_type": "markdown",
      "metadata": {
        "id": "view-in-github",
        "colab_type": "text"
      },
      "source": [
        "<a href=\"https://colab.research.google.com/github/SijiJ/pytorch/blob/main/node-to-edge.ipynb\" target=\"_parent\"><img src=\"https://colab.research.google.com/assets/colab-badge.svg\" alt=\"Open In Colab\"/></a>"
      ]
    },
    {
      "cell_type": "code",
      "source": [
        "import networkx as nx\n"
      ],
      "metadata": {
        "id": "pxKfC3qH9QsR"
      },
      "execution_count": null,
      "outputs": []
    },
    {
      "cell_type": "code",
      "source": [
        "G = nx.Graph()\n",
        "G.add_edge(1, 2, weight='6')\n",
        "G.add_edge(1, 3, weight='7')\n",
        "G.add_edge(1, 5, weight='8')\n",
        "G.add_edge(2, 3, weight='9')\n",
        "G.add_edge(3, 4, weight='10')\n",
        "G.add_edge(4, 5, weight='11')"
      ],
      "metadata": {
        "id": "MVRacKo9Gnjg"
      },
      "execution_count": null,
      "outputs": []
    },
    {
      "cell_type": "code",
      "source": [
        "nx.draw(G, with_labels = True)"
      ],
      "metadata": {
        "id": "Jp_990f-G8HY",
        "outputId": "853a8c3b-7e9e-439a-ec72-6ea7606c753c",
        "colab": {
          "base_uri": "https://localhost:8080/",
          "height": 319
        }
      },
      "execution_count": null,
      "outputs": [
        {
          "output_type": "display_data",
          "data": {
            "text/plain": [
              "<Figure size 432x288 with 1 Axes>"
            ],
            "image/png": "[encoded data removed]"
          },
          "metadata": {}
        }
      ]
    },
    {
      "cell_type": "code",
      "source": [
        "count=1\n",
        "for u,v in G.edges():\n",
        "  print(u,v)\n",
        "  #print(type((u,v)))\n",
        "  G.edges[u, v][\"label\"]=count\n",
        "  #G.edges[u, v][\"label2\"]=count\n",
        "  count+=1"
      ],
      "metadata": {
        "id": "Zn2B3ePAG8x0",
        "outputId": "97ec5307-076a-40a0-dcb7-14d6af36a050",
        "colab": {
          "base_uri": "https://localhost:8080/"
        }
      },
      "execution_count": null,
      "outputs": [
        {
          "output_type": "stream",
          "name": "stdout",
          "text": [
            "1 2\n",
            "1 3\n",
            "1 5\n",
            "2 3\n",
            "3 4\n",
            "5 4\n"
          ]
        }
      ]
    },
    {
      "cell_type": "code",
      "source": [
        "for u,v,a in G.edges(data=True):\n",
        "  print(u,v,a)"
      ],
      "metadata": {
        "id": "kIFI0eT6G80l",
        "outputId": "69c393a5-50c9-48d2-cff8-263bc0a6c050",
        "colab": {
          "base_uri": "https://localhost:8080/"
        }
      },
      "execution_count": null,
      "outputs": [
        {
          "output_type": "stream",
          "name": "stdout",
          "text": [
            "1 2 {'weight': '6', 'label': 1}\n",
            "1 3 {'weight': '7', 'label': 2}\n",
            "1 5 {'weight': '8', 'label': 3}\n",
            "2 3 {'weight': '9', 'label': 4}\n",
            "3 4 {'weight': '10', 'label': 5}\n",
            "5 4 {'weight': '11', 'label': 6}\n"
          ]
        }
      ]
    },
    {
      "cell_type": "code",
      "source": [
        "count=1\n",
        "for n in G.nodes():\n",
        "  print(n)\n",
        "  G.nodes[n]['label']=count\n",
        "  count+=1"
      ],
      "metadata": {
        "id": "75A7tW1gG83l",
        "outputId": "239f0536-8996-4712-9fac-a73e5acc5f50",
        "colab": {
          "base_uri": "https://localhost:8080/"
        }
      },
      "execution_count": null,
      "outputs": [
        {
          "output_type": "stream",
          "name": "stdout",
          "text": [
            "1\n",
            "2\n",
            "3\n",
            "5\n",
            "4\n"
          ]
        }
      ]
    },
    {
      "cell_type": "code",
      "source": [
        "for n,a in G.nodes(data=True):\n",
        "  print(n,a)"
      ],
      "metadata": {
        "id": "f6Jyboy8G85_",
        "outputId": "dfc99ba5-82a2-4597-c001-eadab7dd3472",
        "colab": {
          "base_uri": "https://localhost:8080/"
        }
      },
      "execution_count": null,
      "outputs": [
        {
          "output_type": "stream",
          "name": "stdout",
          "text": [
            "1 {'label': 1}\n",
            "2 {'label': 2}\n",
            "3 {'label': 3}\n",
            "5 {'label': 4}\n",
            "4 {'label': 5}\n"
          ]
        }
      ]
    },
    {
      "cell_type": "code",
      "source": [
        "G.nodes.data()[2]"
      ],
      "metadata": {
        "id": "mRg2JrIgJGP-",
        "outputId": "e0dfde33-0b88-4755-e44d-7c635eed1245",
        "colab": {
          "base_uri": "https://localhost:8080/"
        }
      },
      "execution_count": null,
      "outputs": [
        {
          "output_type": "execute_result",
          "data": {
            "text/plain": [
              "{'label': 2}"
            ]
          },
          "metadata": {},
          "execution_count": 30
        }
      ]
    },
    {
      "cell_type": "code",
      "source": [
        "H = nx.Graph()\n",
        "na={}\n",
        "for u,v,a in G.edges(data=True):\n",
        "  H.add_node(a['label'])\n",
        "  na[a['label']]=a\n",
        "nx.set_node_attributes(H, na)\n",
        "edges=[]\n",
        "ne={}\n",
        "for u,v,w in G.edges(data=True):\n",
        "  edges.append((u,v))\n",
        "  #print(\"u,v {},{}\".format(u,v))\n",
        "  for e in u,v:\n",
        "    for a,b,c in G.edges(data=True):\n",
        "      if (a,b) in edges:\n",
        "        continue\n",
        "      if e in (a,b):\n",
        "        #print(\"e {}\".format(e))\n",
        "        #print(\"a,b {},{}\".format(a,b))\n",
        "        H.add_edge(w['label'], c['label'])\n",
        "        ne[(w['label'], c['label'])]=G.nodes.data()[e]\n",
        "        #print(G.nodes.data()[e])\n",
        "nx.set_edge_attributes(H, ne)\n",
        "nx.draw(H, with_labels = True)"
      ],
      "metadata": {
        "id": "ywWCqPuZHsrr",
        "outputId": "ddb8fa0b-fcb9-4d5c-f5e3-671db4aaf410",
        "colab": {
          "base_uri": "https://localhost:8080/",
          "height": 319
        }
      },
      "execution_count": null,
      "outputs": [
        {
          "output_type": "display_data",
          "data": {
            "text/plain": [
              "<Figure size 432x288 with 1 Axes>"
            ],
            "image/png": "[encoded data removed]"
          },
          "metadata": {}
        }
      ]
    },
    {
      "cell_type": "code",
      "source": [
        "for n,a in H.nodes(data=True):\n",
        "  print(n,a)"
      ],
      "metadata": {
        "id": "khVZbCT5KgEI",
        "outputId": "1a8902ef-0f1f-4c72-bfb9-ba41ad0f8eba",
        "colab": {
          "base_uri": "https://localhost:8080/"
        }
      },
      "execution_count": null,
      "outputs": [
        {
          "output_type": "stream",
          "name": "stdout",
          "text": [
            "1 {'weight': '6', 'label': 1}\n",
            "2 {'weight': '7', 'label': 2}\n",
            "3 {'weight': '8', 'label': 3}\n",
            "4 {'weight': '9', 'label': 4}\n",
            "5 {'weight': '10', 'label': 5}\n",
            "6 {'weight': '11', 'label': 6}\n"
          ]
        }
      ]
    },
    {
      "cell_type": "code",
      "source": [
        "for u,v,a in H.edges(data=True):\n",
        "  print(u,v,a)"
      ],
      "metadata": {
        "id": "kvdQfi5PNw_L",
        "outputId": "a4fb13f8-ca7b-49ca-bca5-1966c7ef7b15",
        "colab": {
          "base_uri": "https://localhost:8080/"
        }
      },
      "execution_count": null,
      "outputs": [
        {
          "output_type": "stream",
          "name": "stdout",
          "text": [
            "1 2 {'label': 1}\n",
            "1 3 {'label': 1}\n",
            "1 4 {'label': 2}\n",
            "2 3 {'label': 1}\n",
            "2 4 {'label': 3}\n",
            "2 5 {'label': 3}\n",
            "3 6 {'label': 4}\n",
            "4 5 {'label': 3}\n",
            "5 6 {'label': 5}\n"
          ]
        }
      ]
    }
  ],
  "metadata": {
    "colab": {
      "collapsed_sections": [],
      "name": "Welcome To Colaboratory",
      "toc_visible": true,
      "provenance": [],
      "include_colab_link": true
    },
    "kernelspec": {
      "display_name": "Python 3",
      "name": "python3"
    }
  },
  "nbformat": 4,
  "nbformat_minor": 0
}